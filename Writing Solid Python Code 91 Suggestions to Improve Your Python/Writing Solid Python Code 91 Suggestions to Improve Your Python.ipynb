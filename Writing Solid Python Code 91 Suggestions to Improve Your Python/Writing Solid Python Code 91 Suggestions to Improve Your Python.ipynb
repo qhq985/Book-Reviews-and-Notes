{
 "cells": [
  {
   "cell_type": "markdown",
   "metadata": {},
   "source": [
    "# Writing Solid Python Code 91 Suggestions to Improve Your Python\n",
    "# 编写高质量代码 改善Python程序的91个建议\n",
    "## Reviews and Notes\n",
    "___________________________________________________________________________________________________________________________"
   ]
  },
  {
   "cell_type": "markdown",
   "metadata": {},
   "source": [
    "## Chapter 1 Introduction\n",
    "___________________________________________________________________________________________________________________________"
   ]
  },
  {
   "cell_type": "markdown",
   "metadata": {},
   "source": [
    "\n",
    "### Suggestion 1: Understand Pythonic"
   ]
  },
  {
   "cell_type": "markdown",
   "metadata": {},
   "source": [
    "Recomended Book <'The Zen of Python'>\n",
    "1. Def on Pythonic  \n",
    "The code that Sufficiently shows Python style.  \n",
    "2. The style of Code  \n",
    "Like recursion:\n",
    "```python\n",
    "with open (path, 'r') as f:\n",
    "    do_sth_with(f)\n",
    "```\n",
    "Like \n",
    "```python\n",
    "revsersed(list)\n",
    "```\n",
    "Like \n",
    "```python\n",
    "a,b = b,a\n",
    "```\n",
    "3. Standard Library  \n",
    "str.format(), mostly used in print function\n",
    "4. Library or structure"
   ]
  },
  {
   "cell_type": "markdown",
   "metadata": {},
   "source": [
    "___________________________________________________________________________________________________________________________\n",
    "### Suggestion 2: Write Pythonic Code"
   ]
  },
  {
   "cell_type": "markdown",
   "metadata": {},
   "source": [
    "1. 避免用大小写来区分不同的对象             \n",
    "2. 避免使用容易引起混淆的名称 eg. element, list, dict, o and 0   \n",
    "3. 不要害怕过长的变量名\n",
    "         \n",
    "4. 风格检查程序 PEP8   \n",
    "\n",
    "```linux\n",
    "   $ pip3 install -U pep8\n",
    "```\n",
    "```\n",
    "   $ pep8 --first optparse.py\n",
    "```\n",
    "       会显示错误和警告， 还可以用 --show-source参数让PEP8 显示每一个错误和警告对应的代码\n",
    "\n",
    "5. 类似PEP8的插件和应用还有 Pychecker  (in Google Python Style Guide), Pylint, Pyflakes (in vim)...\n"
   ]
  },
  {
   "cell_type": "markdown",
   "metadata": {},
   "source": [
    "___________________________________________________________________________________________________________________________\n",
    "### Suggestion 3: Understand the Difference of Python and C\n",
    "\n"
   ]
  },
  {
   "cell_type": "markdown",
   "metadata": {},
   "source": [
    "切忌用C语言的思维和风格来编写Python代码  \n",
    "\n",
    "1. 缩进 与 { }\n",
    "        Python 使用严格的代码缩进方式分割代码块，一不小心会出现unexpected indent 错误\n",
    "2. ' 与 ''\n",
    "        C语言有严格区别， python没有\n",
    "3. 三元操作符 \"?:\"\n",
    "        if...else的简写方法， python 可以 X if C else Y\n",
    "4. switch...case\n",
    "        C语言中有switch(n) {case 0 : ... break; case 1:...}\n",
    "        Python 则是 if， elif， elif， else；或 def return {0：， 1：， 2：} dictionary来实现"
   ]
  },
  {
   "cell_type": "markdown",
   "metadata": {},
   "source": [
    "___________________________________________________________________________________________________________________________\n",
    "### Suggestion 4: Add Some relatived Comments in Code"
   ]
  },
  {
   "cell_type": "markdown",
   "metadata": {},
   "source": [
    "Python 中有三种形式： 快注释，行注释，文档注释 docstring\n",
    "1. 快或者行注释仅仅注释那些复杂的操作和算法\n",
    "2. 注释和代码隔开一定的距离，块注释之后留几行空白再写代码\n",
    "3. 文档注释清楚描述函数和方法的功能，参数，返回值以及可能异常\n",
    "4. 推荐再文件头包含copyright申明，模块描述"
   ]
  },
  {
   "cell_type": "markdown",
   "metadata": {},
   "source": [
    "___________________________________________________________________________________________________________________________\n",
    "### Suggestion 5: Add Blank Line to Make Code More Reasonable and Clear"
   ]
  },
  {
   "cell_type": "markdown",
   "metadata": {},
   "source": [
    "1. 在一组代码表达完一个完整的思路之后，应该用空白行进行间隔\n",
    "2. 当一个函数需要调用另一个函数的时候，尽量放在一起\n",
    "3. 避免过长的代码行，每行不超过80个字符\n",
    "4. 不要为了保持水平对其而使用多余的空格\n",
    "5. 空格的使用要能够在需要强调的时候警示读者\n",
    "        a. 二元运算符，赋值，比较左右加空格，eg. X == 1\n",
    "        b. 逗号和分号前不是用空格， eg. x, y; x, y = y, x\n",
    "        c. 函数名和左括号、序列索引操作和 [  ] 之间   不加空格\n",
    "        d. 强调前面的操作符时使用空格， eg. b*b + a*c; -2 - 5 (-2 减 5)"
   ]
  },
  {
   "cell_type": "markdown",
   "metadata": {},
   "source": [
    "___________________________________________________________________________________________________________________________\n",
    "### Suggestion 6: Four Principle of Writing Code"
   ]
  },
  {
   "cell_type": "markdown",
   "metadata": {},
   "source": [
    "1. 原则1：函数设计要尽量短小，嵌套层次不宜过深\n",
    "2. 原则2：函数申明应该做到合理、简单、易于使用\n",
    "3. 原则3：函数参数设计应该考虑向下兼容; 当引入其他函数，若参数量不对等，可通过加入默认参数来避免这种退化\n",
    "4. 原则4：一个函数只做一件事，尽量保证函数语句粒度的一致性"
   ]
  },
  {
   "cell_type": "markdown",
   "metadata": {},
   "source": [
    "___________________________________________________________________________________________________________________________\n",
    "### Suggestion 7: Combine All Constant Variables"
   ]
  },
  {
   "cell_type": "markdown",
   "metadata": {},
   "source": [
    "可通过    \n",
    "```python     \n",
    "import const\n",
    "const.COMPANY = \"IBM\"\n",
    "```\n",
    "来赋值，常量一旦赋值就不可再更改，否则有ERROR\n",
    "最好把常量都放一起"
   ]
  },
  {
   "cell_type": "markdown",
   "metadata": {},
   "source": [
    "___________________________________________________________________________________________________________________________\n",
    "## Chapter 2 Programing Convention"
   ]
  },
  {
   "cell_type": "markdown",
   "metadata": {},
   "source": [
    "___________________________________________________________________________________________________________________________\n",
    "### Suggestion 8: Use assert to Find the Problems"
   ]
  },
  {
   "cell_type": "markdown",
   "metadata": {},
   "source": [
    "断言 <font color=blue>assert</font> 很多语言都存在，主要为调试程序服务\n",
    "```python\n",
    "    assert x == y, \"not equals\"\n",
    "```\n",
    "使用说明：\n",
    "1. _debug_的值默认设置为True，且只读\n",
    "2. 断言有代价，C/C++ 只在调试模式下启用，而Python都会用，会影响code，所以加上<font color=blue> python -O xxxx.py</font> 就可以禁用断言\n",
    "\n",
    "\n",
    "断言实际是用来捕获用户所定义的约束的，注意：\n",
    "1.  不要滥用\n",
    "2. 如果Python本身的异常能够处理就不要使用断言\n",
    "3. 不要使用断言来检查用户的输入，最好用条件判断，不合符在输出作物\n",
    "4. 在函数调用后，当需要确认返回值是否和合理时可以使用断言\n",
    "5. 当条件是业务逻辑继续下去的先决条件可以使用断言"
   ]
  },
  {
   "cell_type": "markdown",
   "metadata": {},
   "source": [
    "___________________________________________________________________________________________________________________________\n",
    "### Suggestion 9: Not Recomment Use Mid-Variable when Exchanging value"
   ]
  },
  {
   "cell_type": "markdown",
   "metadata": {},
   "source": [
    "<font color=blue> x, y = y, x</font>\n",
    "\n",
    "耗费时间更少，代码更整洁; 因为当赋值时，Python表达式从右边先于左边计算，所以y, x 先创建元组 (y, x) 并赋值, 然后计算表达式左边的组变得值并进行赋值。"
   ]
  },
  {
   "cell_type": "markdown",
   "metadata": {},
   "source": [
    "___________________________________________________________________________________________________________________________\n",
    "### Suggestion 10: Use the Benefit of Lazy Evaluation"
   ]
  },
  {
   "cell_type": "markdown",
   "metadata": {},
   "source": [
    "Lazy evaluation 延迟计算，仅仅在真正需要执行的时候才计算表达式的值\n",
    "\n",
    "1. 避免不必要的计算， if else\n",
    "2. 节省空间， while True 和 yield 避免无限循环"
   ]
  },
  {
   "cell_type": "markdown",
   "metadata": {},
   "source": [
    "___________________________________________________________________________________________________________________________\n",
    "### Suggestion 11: Understand the Weakness of Enumerate "
   ]
  },
  {
   "cell_type": "markdown",
   "metadata": {},
   "source": [
    "枚举类型是C语言中和其它语言的一种特殊类型，枚举类型可以让我们的程序使用一些固定长度和固定数值的变量值范围。方便引用，但其值其实为0，1，2...\n",
    "\n",
    "Python 3.4 以前不提供，替代方式\n",
    "1. 使用类属性， class\n",
    "2. 借助函数， def enum(*posarg, **keysarg):\n",
    "3. 使用 collections.namedtuple\n",
    "Python 3.4之后引入了枚举 Enum，实现类似与 包 flufl.enum，但有一些差别，比如 flufl.enum 允许枚举继承，但 Enum 仅在父类没有任何枚举成员的时候才允许继承等"
   ]
  },
  {
   "cell_type": "markdown",
   "metadata": {},
   "source": [
    "___________________________________________________________________________________________________________________________\n",
    "### Suggestion 12: NOT Recommend to Use Type( ) to check type"
   ]
  },
  {
   "cell_type": "markdown",
   "metadata": {},
   "source": [
    "作为动态性的强类型脚本语言，type 显隐式。\n",
    "基于内建类型扩展的用户自定义类型， type函数并不能准确返回结果"
   ]
  },
  {
   "cell_type": "markdown",
   "metadata": {},
   "source": [
    "___________________________________________________________________________________________________________________________\n",
    "### Suggestion 13: Prefer to transfer to Float type before Division"
   ]
  },
  {
   "cell_type": "markdown",
   "metadata": {},
   "source": [
    "否则结果可能还为整数，python3 解决了这些问题"
   ]
  },
  {
   "cell_type": "markdown",
   "metadata": {},
   "source": [
    "___________________________________________________________________________________________________________________________\n",
    "### Suggestion 14: The Vulnerability Eval ()"
   ]
  },
  {
   "cell_type": "markdown",
   "metadata": {},
   "source": [
    "千万不要尝试\n",
    "```python\n",
    "__import__(\"os\").system(\"del * / Q\")\n",
    "```\n",
    "会删除当前目录下的所有文件\n",
    "\n",
    "如果使用对象不是信任源，应该尽量避免使用eval，在需要使用eval的地方可用安全性更好的ast,literal_eval替代"
   ]
  },
  {
   "cell_type": "markdown",
   "metadata": {},
   "source": [
    "___________________________________________________________________________________________________________________________\n",
    "### Suggestion 15: Use enumerate() to get the List Recursion's Index and Value"
   ]
  },
  {
   "cell_type": "markdown",
   "metadata": {},
   "source": [
    "```python\n",
    "li = ['a', 'b', 'c', 'd' ,'e']\n",
    "for i, e in enumerate(li):\n",
    "    print(\"index: {}, element: {}\".format(i,e))\n",
    "```\n",
    "还可以用查看 \n",
    "```python\n",
    "li = ['a', 'b', 'c', 'd' ,'e']\n",
    "e = enumerate(li)\n",
    "e.next()\n",
    "(0,'a')\n",
    "```\n",
    "myenumerate() 以反序的方式获取索引和值\n",
    "\n",
    "\n",
    "但在字典中，得用dict.iteritems()"
   ]
  },
  {
   "cell_type": "markdown",
   "metadata": {},
   "source": [
    "___________________________________________________________________________________________________________________________\n",
    "### Suggestion 16: == and is"
   ]
  },
  {
   "cell_type": "markdown",
   "metadata": {},
   "source": [
    "判断两个字符串是否相等时，混用 is 和 == 经常犯的错误\n",
    "\n",
    "\n",
    "利用id()查看地址， is 查看 object identity， == 查看 equal\n",
    "\n",
    "判断两个对象相等应该使用 == 而不是 is"
   ]
  },
  {
   "cell_type": "markdown",
   "metadata": {},
   "source": [
    "___________________________________________________________________________________________________________________________\n",
    "### Suggestion 17: Considering Compatibility, Prefer to use Unicode"
   ]
  },
  {
   "cell_type": "markdown",
   "metadata": {},
   "source": [
    "Unicode (Univeral Multiple-Octet Coded Character Set), 万国码，为每种语言设置了唯一的二进制编码表示方式，满足跨平台和跨语言\n",
    "\n",
    "有 UCS-2 （两个字节编码）和 UCS-4 （四个字节编码），目前实际应用为UCS-2， 使用16位的编码空间，实现方式成为 UTF （Unicode Transformation Format），包括UTF-7, UTF-16, UTF-32, UTF-8（常见）。\n",
    "```python\n",
    "# coding = utf - 8\n",
    "xxx.decode(\"utf-8\").encode(\"gbk\")\n",
    "```\n",
    "对字符串进行解码和编码，也可以部分进行encode和decode，为了保持最终一致"
   ]
  },
  {
   "cell_type": "markdown",
   "metadata": {},
   "source": [
    "___________________________________________________________________________________________________________________________\n",
    "### Suggestion 18: Reasonable Construction to Organize module"
   ]
  },
  {
   "cell_type": "markdown",
   "metadata": {},
   "source": []
  },
  {
   "cell_type": "markdown",
   "metadata": {},
   "source": [
    "___________________________________________________________________________________________________________________________\n",
    "### Suggestion 12: NOT Recommend to Use Type( ) to check type"
   ]
  },
  {
   "cell_type": "code",
   "execution_count": null,
   "metadata": {},
   "outputs": [],
   "source": []
  },
  {
   "cell_type": "markdown",
   "metadata": {},
   "source": [
    "___________________________________________________________________________________________________________________________\n",
    "### Suggestion 12: NOT Recommend to Use Type( ) to check type"
   ]
  },
  {
   "cell_type": "code",
   "execution_count": null,
   "metadata": {},
   "outputs": [],
   "source": []
  }
 ],
 "metadata": {
  "kernelspec": {
   "display_name": "Python 3",
   "language": "python",
   "name": "python3"
  },
  "language_info": {
   "codemirror_mode": {
    "name": "ipython",
    "version": 3
   },
   "file_extension": ".py",
   "mimetype": "text/x-python",
   "name": "python",
   "nbconvert_exporter": "python",
   "pygments_lexer": "ipython3",
   "version": "3.7.3"
  }
 },
 "nbformat": 4,
 "nbformat_minor": 2
}
