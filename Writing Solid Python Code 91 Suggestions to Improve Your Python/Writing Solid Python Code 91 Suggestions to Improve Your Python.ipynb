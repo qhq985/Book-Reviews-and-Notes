{
 "cells": [
  {
   "cell_type": "markdown",
   "metadata": {},
   "source": [
    "# Writing Solid Python Code 91 Suggestions to Improve Your Python\n",
    "# 编写高质量代码 改善Python程序的91个建议\n",
    "## Reviews and Notes\n",
    "___________________________________________________________________________________________________________________________"
   ]
  },
  {
   "cell_type": "markdown",
   "metadata": {},
   "source": [
    "### Suggestion 1: Understand Pythonic"
   ]
  },
  {
   "cell_type": "markdown",
   "metadata": {},
   "source": [
    "Recomended Book <'The Zen of Python'>\n",
    "1. Def on Pythonic  \n",
    "The code that Sufficiently shows Python style.  \n",
    "2. The style of Code  \n",
    "Like recursion:\n",
    "```python\n",
    "with open (path, 'r') as f:\n",
    "    do_sth_with(f)\n",
    "```\n",
    "Like \n",
    "```python\n",
    "revsersed(list)\n",
    "```\n",
    "Like \n",
    "```python\n",
    "a,b = b,a\n",
    "```\n",
    "3. Standard Library  \n",
    "str.format(), mostly used in print function\n",
    "4. Library or structure\n"
   ]
  },
  {
   "cell_type": "markdown",
   "metadata": {},
   "source": [
    "### Suggestion 2: Write Pythonic code"
   ]
  },
  {
   "cell_type": "code",
   "execution_count": null,
   "metadata": {},
   "outputs": [],
   "source": []
  },
  {
   "cell_type": "code",
   "execution_count": null,
   "metadata": {},
   "outputs": [],
   "source": []
  },
  {
   "cell_type": "code",
   "execution_count": null,
   "metadata": {},
   "outputs": [],
   "source": []
  }
 ],
 "metadata": {
  "kernelspec": {
   "display_name": "Python 3",
   "language": "python",
   "name": "python3"
  },
  "language_info": {
   "codemirror_mode": {
    "name": "ipython",
    "version": 3
   },
   "file_extension": ".py",
   "mimetype": "text/x-python",
   "name": "python",
   "nbconvert_exporter": "python",
   "pygments_lexer": "ipython3",
   "version": "3.7.3"
  }
 },
 "nbformat": 4,
 "nbformat_minor": 2
}
